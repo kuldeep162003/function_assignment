{
  "nbformat": 4,
  "nbformat_minor": 0,
  "metadata": {
    "colab": {
      "provenance": []
    },
    "kernelspec": {
      "name": "python3",
      "display_name": "Python 3"
    },
    "language_info": {
      "name": "python"
    }
  },
  "cells": [
    {
      "cell_type": "markdown",
      "source": [
        "1. What are data structures, and why are they important?\n",
        "   >Data structures are specialized ways of organizing and storing data in a computer so that it can be accessed and modified efficiently.\n",
        "\n",
        "   Why Data Structures Are Important:\n",
        "\n",
        "  * Efficient Data Management: They help store data in an organized way, making it easy to search, retrieve, and update.\n",
        "\n",
        "  * Better Performance: Choosing the right data structure can drastically improve the performance of an algorithm (speed and memory usage).\n",
        "\n",
        "\n",
        "2.  Explain the difference between mutable and immutable data types with examples.\n",
        "  > Mutable means \"changeable.\"\n",
        "  A mutable object is one whose content (value) can be changed after it is created, without changing its memory location."
      ],
      "metadata": {
        "id": "_NKNmGQqDeo5"
      }
    },
    {
      "cell_type": "code",
      "source": [
        "my_list = [1, 2, 3]\n",
        "my_list[0] = 10\n",
        "print(my_list)\n"
      ],
      "metadata": {
        "colab": {
          "base_uri": "https://localhost:8080/"
        },
        "id": "InMfy_s8JskS",
        "outputId": "6f9203fb-bd61-4c55-ab3c-ca03c3edf4de"
      },
      "execution_count": null,
      "outputs": [
        {
          "output_type": "stream",
          "name": "stdout",
          "text": [
            "[10, 2, 3]\n"
          ]
        }
      ]
    },
    {
      "cell_type": "markdown",
      "source": [
        "   Immutable means \"unchangeable.\" An immutable object is one whose value cannot be changed after it is created. If you try to change it, Python creates a new object instead."
      ],
      "metadata": {
        "id": "bYWHRDe0Kh3j"
      }
    },
    {
      "cell_type": "code",
      "source": [
        "my_str = \"hello\"\n",
        "my_str = \"world\"\n",
        "print(my_str)\n"
      ],
      "metadata": {
        "colab": {
          "base_uri": "https://localhost:8080/"
        },
        "id": "PehWtHJPKSt_",
        "outputId": "a00b696c-cd7a-4f64-c45a-9ef8281cb8cd"
      },
      "execution_count": null,
      "outputs": [
        {
          "output_type": "stream",
          "name": "stdout",
          "text": [
            "world\n"
          ]
        }
      ]
    },
    {
      "cell_type": "markdown",
      "source": [
        "3. What are the main differences between lists and tuples in Python?\n",
        "\n",
        "  * Lists - A list is a collection of items in a specific order that can be changed.\n",
        "\n",
        "    It allows you to store multiple values in a single variable.\n",
        "\n",
        "    Can store different data types (int, str, float, etc.)\n",
        "\n",
        "  * Tuples - A tuple is a collection of  items that is ordered but immutable.\n",
        "\n",
        "    you cannot change, add, or remove items once the tuple is created.\n",
        "\n",
        "    Can store different data types (int, str, float, etc.)\n",
        "\n",
        "\n",
        "4. Describe how dictionaries store data?\n",
        "  > A dictionary in Python stores data in the form of key-value pairs.\n",
        "Each key is unique and is used to access its corresponding value.\n"
      ],
      "metadata": {
        "id": "ssrnWf4eLIAM"
      }
    },
    {
      "cell_type": "code",
      "source": [
        "my_dict = {\n",
        "    \"name\": \"Shreya\",\n",
        "    \"age\": 22,\n",
        "    \"branch\": \"AI/ML\"\n",
        "}\n",
        "\n"
      ],
      "metadata": {
        "id": "87mrp5PsOdzn"
      },
      "execution_count": null,
      "outputs": []
    },
    {
      "cell_type": "markdown",
      "source": [
        "   > Keys: \"name\", \"age\", \"branch\"\n",
        "\n",
        ">Values: \"Shreya\", 22, \"AI/ML\"\n",
        "\n"
      ],
      "metadata": {
        "id": "Q47b1sk4O_Wv"
      }
    },
    {
      "cell_type": "markdown",
      "source": [
        "5.  Why might you use a set instead of a list in Python?\n",
        "   > Use a set when you need unique items, fast lookups, and want to perform mathematical set operations. Use a list when you care about order and may have duplicates.\n",
        "\n",
        "6.  What is a string in Python, and how is it different from a list?\n",
        "\n",
        "    > A string in Python is a sequence of characters enclosed within quotes. It is immutable, meaning once created, it cannot be changed.\n",
        "\n",
        "    > A list is a collection of items that can be of any data type and is mutable, meaning its contents can be changed after creation.\n",
        "\n",
        "      > Main differences:\n",
        "\n",
        "      * A string stores only text data; a list can store any type of data.\n",
        "      \n",
        "      * Strings are immutable; lists are mutable."
      ],
      "metadata": {
        "id": "ys6hXG_7PEMl"
      }
    },
    {
      "cell_type": "markdown",
      "source": [
        " 7. How do tuples ensure data integrity in Python?\n",
        "    > Tuples protect data by locking its content, ensuring that it stays the same — which is important when consistent, unchangeable information is required.\n",
        "\n",
        "8.  What is a hash table, and how does it relate to dictionaries in Python?\n",
        "\n",
        "   > A hash table is a data structure that stores key-value pairs. It uses a hash function to convert keys into indexes in an underlying array, allowing for fast data access.\n",
        "\n",
        "9. Can lists contain different data types in Python?\n",
        "\n",
        "   > Yes, lists in Python can contain different data types. A single list can include integers, floats, strings, booleans, other lists, or even custom objects. This flexibility is one of the powerful features of Python lists.\n",
        "\n",
        "10.  Explain why strings are immutable in Python?\n",
        "\n",
        "  > Strings are immutable in Python because once a string is created, its contents cannot be changed. This means that you cannot modify, insert, or delete characters within the existing string directly.\n",
        "\n",
        "11. What advantages do dictionaries offer over lists for certain tasks?\n",
        "\n",
        "   > Faster Lookups:\n",
        "\n",
        "   *  Dictionaries provide constant time complexity (O(1)) for accessing values by key, while lists require linear time (O(n)) for searching through elements.\n",
        "\n",
        "   > Key-Value Storage:\n",
        "\n",
        "   * Dictionaries allow you to store data with meaningful labels (keys), making the code more readable and easier to understand than using index positions in lists.\n",
        "\n",
        "   > Avoid Duplicates in Keys:\n",
        "\n",
        "   * Dictionary keys are unique, so they automatically handle duplicates, which can be useful in tasks like counting occurrences.\n",
        "\n",
        "   > Dynamic and Flexible:\n",
        "\n",
        "   * Dictionaries can store values of any data type and allow you to add or remove key-value pairs dynamically.\n",
        "\n"
      ],
      "metadata": {
        "id": "lBoX6fk7RDBB"
      }
    },
    {
      "cell_type": "markdown",
      "source": [
        "12.  Describe a scenario where using a tuple would be preferable over a list.\n",
        "\n",
        "     > A tuple is preferable over a list when you need to store a collection of items that should not change throughout the program. Since tuples are immutable, they protect the data from being accidentally modified.\n",
        "\n",
        "13.  How do sets handle duplicate values in Python?\n",
        "\n",
        "    > In Python, sets automatically remove duplicate values. A set is an unordered collection of unique elements, meaning it can only store one instance of each value.\n",
        "    \n",
        "    * When you create a set, Python checks each element.\n",
        "    * If a value is already present, it is not added again.\n",
        "\n",
        "14.  How does the “in” keyword work differently for lists and dictionaries?\n",
        "\n",
        "    > For Lists:\n",
        "    * \"in\" checks if a value exists in the list (among the elements).\n",
        "    * It goes through the list element by element (linear search).\n",
        "\n",
        "   > For Dictionaries:\n",
        "   * \"in\" checks if a key exists, not the value.\n",
        "   * It is much faster because dictionaries use hashing for lookup."
      ],
      "metadata": {
        "id": "pAByEJ52m5FN"
      }
    },
    {
      "cell_type": "markdown",
      "source": [
        "15. Can you modify the elements of a tuple? Explain why or why not.\n",
        "\n",
        "  > No, cannot modify the elements of a tuple in Python because tuples are immutable. This means that once a tuple is created, its elements cannot be changed, added, or removed.\n",
        "\n",
        "    > Why tuples are immutable:\n",
        "\n",
        "    * Data Integrity: Tuples are used to store fixed data. Immutability ensures the data remains unchanged throughout the program.\n",
        "    * Hashability: Because they don't change, tuples can be used as keys in dictionaries and elements in sets.\n",
        "\n",
        "16. What is a nested dictionary, and give an example of its use case?\n",
        "\n",
        "   > A nested dictionary is a dictionary inside another dictionary. It allows you to store complex, hierarchical data structures in a structured and organized way.\n",
        "\n",
        "\n",
        "\n",
        "   \n",
        "\n"
      ],
      "metadata": {
        "id": "iSCLRw_vqJjc"
      }
    },
    {
      "cell_type": "code",
      "source": [
        "Example:\n",
        "\n",
        "students = {\n",
        "    \"101\": {\"name\": \"Shreya\", \"age\": 21, \"course\": \"AI/ML\"},\n",
        "    \"102\": {\"name\": \"Rahul\", \"age\": 22, \"course\": \"Data Science\"}\n",
        "}\n",
        "\n",
        "\n"
      ],
      "metadata": {
        "id": "avgmuf1WuO3a"
      },
      "execution_count": null,
      "outputs": []
    },
    {
      "cell_type": "markdown",
      "source": [
        "  > Use Case:\n",
        "  * Student records\n",
        "  * Employee details by department\n",
        "  * Product catalogs in categories\n",
        "\n",
        "18. Describe the time complexity of accessing elements in a dictionary?\n",
        "\n",
        "   > Lists are preferred over dictionaries in Python when:\n",
        "\n",
        "   * Order matters: Lists maintain the order of elements, so they're ideal when you need to process items in a specific sequence (e.g., processing tasks in a queue).\n",
        "\n",
        "  * Simple data: Use lists when storing a collection of items without needing to label or name them individually, like [10, 20, 30].\n",
        "\n",
        "  * Index-based access: When you need to access items using their position (index), lists are more straightforward.\n",
        "\n",
        "  * Duplicates are needed: Lists allow duplicate values, which is useful when repetition matters [2, 3, 3, 4].\n",
        "\n"
      ],
      "metadata": {
        "id": "3bEdbf6RuwMe"
      }
    },
    {
      "cell_type": "markdown",
      "source": [
        "17. Describe the time complexity of accessing elements in a dictionary.\n",
        "\n",
        "   > The time complexity of accessing elements in a dictionary in Python is:\n",
        "\n",
        "   > Average case: O(1)\n",
        "   Accessing a value using a key is very fast because dictionaries use hash tables internally.\n",
        "Example: value = my_dict['key'] takes constant time on average.\n",
        "\n",
        "  >  Worst case: O(n)\n",
        "  >  In rare cases (like hash collisions or poorly distributed keys), access\n",
        "  time can degrade to linear time.\n",
        "  However, Python’s hash function and internal optimizations make this very uncommon.\n",
        "\n",
        "19. Why are dictionaries considered unordered, and how does that affect data retrieval?\n",
        "  > Dictionaries are “unordered” because data is accessed by key, not by position, and historically, the order wasn't preserved. This means you can’t treat them like lists where order matters—unless you’re using Python 3.7+ and care about insertion order.\n",
        "\n",
        "20.  Explain the difference between a list and a dictionary in terms of data retrieval.\n",
        "\n",
        "  > The main difference between a list and a dictionary in terms of data retrieval lies in how you access the data:\n",
        "\n",
        ">List:\n",
        "  * Data is retrieved using index numbers (position in the list).\n",
        "  * Example: my_list[0] gets the first element.\n",
        "  * Slower lookup if you need to search for a specific value (linear time, O(n)).\n",
        "\n",
        ">Dictionary:\n",
        "\n",
        " * Data is retrieved using keys (not position).\n",
        " * Example: my_dict[\"name\"] gets the value for the key \"name\".\n",
        " * Faster lookup by key (average time, O(1)) due to internal hashing."
      ],
      "metadata": {
        "id": "aC7FI7uixzhi"
      }
    },
    {
      "cell_type": "markdown",
      "source": [],
      "metadata": {
        "id": "NIzgTU-1GYWl"
      }
    }
  ]
}